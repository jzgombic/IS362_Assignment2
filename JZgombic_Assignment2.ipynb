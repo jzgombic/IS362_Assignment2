{
 "cells": [
  {
   "cell_type": "markdown",
   "metadata": {
    "collapsed": true
   },
   "source": [
    "# Python zip() Function\n",
    "\n",
    "The zip() function returns a zip object, which is an iterator of tuples where the first item in each passed iterator is paired together, and then the second item in each passed iterator are paired together etc.\n",
    "\n",
    "If the passed iterators have different lengths, the iterator with the least items decides the length of the new iterator.\n",
    "\n",
    "Let's see how the zip() function works."
   ]
  },
  {
   "cell_type": "markdown",
   "metadata": {},
   "source": [
    "The following *List* is comprised of the names of all the members of the NY Mets' 40 man roster who are under age 30."
   ]
  },
  {
   "cell_type": "code",
   "execution_count": 21,
   "metadata": {
    "collapsed": true
   },
   "outputs": [],
   "source": [
    "nameList = ['Amed Rosario', 'Pete Alonso', 'Luis Guillorme', 'Dominic Smith', 'Chris Flexen', 'Stephen Nogosek',\n",
    "'Franklyn Kilome', 'Walker Lockett', 'Edwin Diaz', 'Tomas Nido', 'Sam Haggerty', 'Robert Gsellman', 'Corey Oswalt',\n",
    "'Eric Hanhold', 'Daniel Zamora', 'Noah Syndergaard', 'Tyler Bashlor', 'Brandon Nimmo', 'Michael Conforto', 'J.D. Davis',\n",
    "'Jeff McNeil', 'Steven Matz', 'Marcus Stroman', 'Joe Panik', 'Seth Lugo', 'Paul Sewald', 'Zack Wheeler', 'Jeurys Familia',\n",
    "'Luis Avilan', 'Drew Gagnon']"
   ]
  },
  {
   "cell_type": "markdown",
   "metadata": {},
   "source": [
    "The following *List* is comprised of the ages of all the members of the NY Mets' 40 man rosterwho are under age 30."
   ]
  },
  {
   "cell_type": "code",
   "execution_count": 22,
   "metadata": {
    "collapsed": true
   },
   "outputs": [],
   "source": [
    "ageList = [23,24,24,24,24,24,24,25,25,25,25,25,25,25,26,26,26,26,26,26,27,28,28,28,29,29,29,29,29,29]"
   ]
  },
  {
   "cell_type": "markdown",
   "metadata": {},
   "source": [
    "We are now using the zip() function to pair the two lists together into *result*"
   ]
  },
  {
   "cell_type": "code",
   "execution_count": 23,
   "metadata": {},
   "outputs": [],
   "source": [
    "result = zip(nameList, ageList)"
   ]
  },
  {
   "cell_type": "markdown",
   "metadata": {},
   "source": [
    "We are now converting the result of the pairing into a *Set*, **resultSet**."
   ]
  },
  {
   "cell_type": "code",
   "execution_count": 24,
   "metadata": {
    "collapsed": true
   },
   "outputs": [],
   "source": [
    "resultSet = set(result)"
   ]
  },
  {
   "cell_type": "markdown",
   "metadata": {},
   "source": [
    "We are now going to use *print* in order to get a visual depiction of the results we have created. \n",
    "\n",
    "As you can see, we now have the pairing of the player name with their age."
   ]
  },
  {
   "cell_type": "code",
   "execution_count": 25,
   "metadata": {},
   "outputs": [
    {
     "name": "stdout",
     "output_type": "stream",
     "text": [
      "{('Franklyn Kilome', 24), ('Pete Alonso', 24), ('Chris Flexen', 24), ('Eric Hanhold', 25), ('Dominic Smith', 24), ('Tyler Bashlor', 26), ('Brandon Nimmo', 26), ('Marcus Stroman', 28), ('Walker Lockett', 25), ('Jeurys Familia', 29), ('Paul Sewald', 29), ('Robert Gsellman', 25), ('Edwin Diaz', 25), ('Seth Lugo', 29), ('Joe Panik', 28), ('J.D. Davis', 26), ('Steven Matz', 28), ('Noah Syndergaard', 26), ('Amed Rosario', 23), ('Tomas Nido', 25), ('Stephen Nogosek', 24), ('Zack Wheeler', 29), ('Michael Conforto', 26), ('Corey Oswalt', 25), ('Daniel Zamora', 26), ('Jeff McNeil', 27), ('Luis Avilan', 29), ('Luis Guillorme', 24), ('Sam Haggerty', 25), ('Drew Gagnon', 29)}\n"
     ]
    }
   ],
   "source": [
    "print(resultSet)"
   ]
  },
  {
   "cell_type": "markdown",
   "metadata": {},
   "source": [
    "Now that we have finished using the zip() function, how about we go ahead and unzip the lists we zipped earlier.\n",
    "\n",
    "When running **zip(*resultSet)**, we are effectively unzipping **resultSet** into it's original lists, **nameList** and **ageList**."
   ]
  },
  {
   "cell_type": "code",
   "execution_count": 26,
   "metadata": {
    "collapsed": true
   },
   "outputs": [],
   "source": [
    "nameList, ageList =  zip(*resultSet)"
   ]
  },
  {
   "cell_type": "markdown",
   "metadata": {},
   "source": [
    "Here are the originals lists as stated would appear after running **zip(*resultSet)**"
   ]
  },
  {
   "cell_type": "code",
   "execution_count": 27,
   "metadata": {},
   "outputs": [
    {
     "name": "stdout",
     "output_type": "stream",
     "text": [
      "nameList = ('Franklyn Kilome', 'Pete Alonso', 'Chris Flexen', 'Eric Hanhold', 'Dominic Smith', 'Tyler Bashlor', 'Brandon Nimmo', 'Marcus Stroman', 'Walker Lockett', 'Jeurys Familia', 'Paul Sewald', 'Robert Gsellman', 'Edwin Diaz', 'Seth Lugo', 'Joe Panik', 'J.D. Davis', 'Steven Matz', 'Noah Syndergaard', 'Amed Rosario', 'Tomas Nido', 'Stephen Nogosek', 'Zack Wheeler', 'Michael Conforto', 'Corey Oswalt', 'Daniel Zamora', 'Jeff McNeil', 'Luis Avilan', 'Luis Guillorme', 'Sam Haggerty', 'Drew Gagnon')\n"
     ]
    }
   ],
   "source": [
    "print('nameList =', nameList)"
   ]
  },
  {
   "cell_type": "code",
   "execution_count": 28,
   "metadata": {},
   "outputs": [
    {
     "name": "stdout",
     "output_type": "stream",
     "text": [
      "ageList = (24, 24, 24, 25, 24, 26, 26, 28, 25, 29, 29, 25, 25, 29, 28, 26, 28, 26, 23, 25, 24, 29, 26, 25, 26, 27, 29, 24, 25, 29)\n"
     ]
    }
   ],
   "source": [
    "print('ageList =', ageList)"
   ]
  }
 ],
 "metadata": {
  "kernelspec": {
   "display_name": "Python 3",
   "language": "python",
   "name": "python3"
  },
  "language_info": {
   "codemirror_mode": {
    "name": "ipython",
    "version": 3
   },
   "file_extension": ".py",
   "mimetype": "text/x-python",
   "name": "python",
   "nbconvert_exporter": "python",
   "pygments_lexer": "ipython3",
   "version": "3.6.2"
  }
 },
 "nbformat": 4,
 "nbformat_minor": 2
}
